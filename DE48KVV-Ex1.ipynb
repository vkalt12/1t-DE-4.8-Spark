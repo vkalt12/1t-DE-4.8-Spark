{
 "cells": [
  {
   "cell_type": "markdown",
   "metadata": {},
   "source": [
    "Задача 1\n",
    "\n",
    "    1.1 Условие\n",
    "На вход доступен следующий фрейм данных:\n",
    "id\ttimestamp\n",
    "1\t1562007679\n",
    "1\t1562007710\n",
    "1\t1562007720\n",
    "1\t1562007750\n",
    "2\t1564682430\n",
    "2\t1564682450\n",
    "2\t1564682480\n",
    "id — уникальный идентификатор пользователя\n",
    "timestamp — время действия на сайте, совершенное данным пользователем\n",
    "\n",
    "    1.2 Задание\n",
    "Для каждого id рассчитайте усредненную длину сессии в рамках суток. Усредненная длина сессии рассчитывается как разница между первым и последним действием, произведенным на сайте.\n",
    "Подсказка: воспользуйтесь возможностями оконных функций в Spark.\n"
   ]
  },
  {
   "cell_type": "code",
   "execution_count": 2,
   "metadata": {},
   "outputs": [],
   "source": [
    "# Импортирование необходимой библиотеки pandas\n",
    "import pandas as pd"
   ]
  },
  {
   "cell_type": "code",
   "execution_count": 3,
   "metadata": {},
   "outputs": [],
   "source": [
    "# Создание датафрейма с помощью pandas из словаря:\n",
    "data1 = {'id': ['1', '1',  '1', '1', '2', '2', '2'],\n",
    "        'timestamp': ['1562007679', '1562007710', '1562007720', '1562007750'\n",
    "                      , '1564682430', '1564682450', '1564682480'] \n",
    "        }\n",
    "df1 = pd.DataFrame(data1)\n",
    "df1 = df1.astype({'id': 'string', 'timestamp' : 'int'})"
   ]
  },
  {
   "cell_type": "code",
   "execution_count": 4,
   "metadata": {},
   "outputs": [],
   "source": [
    "# Импортирование необходимых библиотек pyspark\n",
    "from pyspark.sql import SparkSession"
   ]
  },
  {
   "cell_type": "code",
   "execution_count": 5,
   "metadata": {},
   "outputs": [
    {
     "name": "stderr",
     "output_type": "stream",
     "text": [
      "24/08/15 21:36:21 WARN Utils: Your hostname, alto-pc resolves to a loopback address: 127.0.1.1; using 192.168.181.138 instead (on interface eth0)\n",
      "24/08/15 21:36:21 WARN Utils: Set SPARK_LOCAL_IP if you need to bind to another address\n",
      "Setting default log level to \"WARN\".\n",
      "To adjust logging level use sc.setLogLevel(newLevel). For SparkR, use setLogLevel(newLevel).\n",
      "24/08/15 21:36:22 WARN NativeCodeLoader: Unable to load native-hadoop library for your platform... using builtin-java classes where applicable\n",
      "24/08/15 21:36:23 WARN Utils: Service 'SparkUI' could not bind on port 4040. Attempting port 4041.\n"
     ]
    }
   ],
   "source": [
    "# Инициализация Spark-сессии\n",
    "spark = SparkSession.builder \\\n",
    "    .master(\"local\") \\\n",
    "    .appName(\"onlineretail\") \\\n",
    "    .getOrCreate()"
   ]
  },
  {
   "cell_type": "code",
   "execution_count": 6,
   "metadata": {},
   "outputs": [
    {
     "name": "stdout",
     "output_type": "stream",
     "text": [
      "root\n",
      " |-- id: string (nullable = true)\n",
      " |-- timestamp: long (nullable = true)\n",
      "\n"
     ]
    },
    {
     "name": "stderr",
     "output_type": "stream",
     "text": [
      "                                                                                \r"
     ]
    },
    {
     "name": "stdout",
     "output_type": "stream",
     "text": [
      "+---+----------+\n",
      "| id| timestamp|\n",
      "+---+----------+\n",
      "|  1|1562007679|\n",
      "|  1|1562007710|\n",
      "|  1|1562007720|\n",
      "|  1|1562007750|\n",
      "|  2|1564682430|\n",
      "|  2|1564682450|\n",
      "|  2|1564682480|\n",
      "+---+----------+\n",
      "\n"
     ]
    }
   ],
   "source": [
    "# Создание dataframe для pyspark\n",
    "sparkDF = spark.createDataFrame(df1) \n",
    "sparkDF.printSchema()\n",
    "sparkDF.show()"
   ]
  },
  {
   "cell_type": "markdown",
   "metadata": {},
   "source": [
    "Для каждого id рассчитайте усредненную длину сессии в рамках суток. \n",
    "\n",
    "Усредненная длина сессии рассчитывается как разница между первым и последним действием, произведенным на сайте.\n",
    "\n",
    "Подсказка: воспользуйтесь возможностями оконных функций в Spark."
   ]
  },
  {
   "cell_type": "code",
   "execution_count": 7,
   "metadata": {},
   "outputs": [
    {
     "name": "stdout",
     "output_type": "stream",
     "text": [
      "+---+----------+---+\n",
      "| id| timestamp|UDS|\n",
      "+---+----------+---+\n",
      "|  1|1562007679| 71|\n",
      "|  1|1562007710| 71|\n",
      "|  1|1562007720| 71|\n",
      "|  1|1562007750| 71|\n",
      "|  2|1564682430| 50|\n",
      "|  2|1564682450| 50|\n",
      "|  2|1564682480| 50|\n",
      "+---+----------+---+\n",
      "\n"
     ]
    }
   ],
   "source": [
    "# Импорт оконных функций\n",
    "from pyspark.sql.window import Window\n",
    "from pyspark.sql.functions import col,min,max \n",
    "\n",
    "# Основание для разбиения данных\n",
    "sesLenAgg  = Window.partitionBy(\"id\")\n",
    "\n",
    "# Добавление колонки со значением усредненной длины сессии (UDS)\n",
    "sparkDF.withColumn(\"UDS\", max(col(\"timestamp\")).over(sesLenAgg)-min(col(\"timestamp\")).over(sesLenAgg)) \\\n",
    "  .show()\n"
   ]
  },
  {
   "cell_type": "code",
   "execution_count": 8,
   "metadata": {},
   "outputs": [],
   "source": [
    "# Остановка spark-сессии\n",
    "spark.stop()"
   ]
  }
 ],
 "metadata": {
  "kernelspec": {
   "display_name": "base",
   "language": "python",
   "name": "python3"
  },
  "language_info": {
   "codemirror_mode": {
    "name": "ipython",
    "version": 3
   },
   "file_extension": ".py",
   "mimetype": "text/x-python",
   "name": "python",
   "nbconvert_exporter": "python",
   "pygments_lexer": "ipython3",
   "version": "3.11.7"
  }
 },
 "nbformat": 4,
 "nbformat_minor": 2
}
